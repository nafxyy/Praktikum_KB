{
 "cells": [
  {
   "cell_type": "markdown",
   "id": "ca48fb5a-a4ac-409b-a70e-0b3b4cecda9f",
   "metadata": {},
   "source": [
    "### NAMA: MUHAMMAD NAUFAL IHSAN MAULIDIN\n",
    "### NIM: 2109106034\n",
    "### KELAS: INFORMATIKA A2 2021"
   ]
  },
  {
   "cell_type": "markdown",
   "id": "919230f3-d9fd-4de8-a0fa-0335e18967f6",
   "metadata": {},
   "source": [
    "#### IMPORT LIBRARY YANG AKAN DIGUNAKAN"
   ]
  },
  {
   "cell_type": "code",
   "execution_count": 13,
   "id": "a9799b35-5feb-4c13-8d19-c84657d1afcb",
   "metadata": {},
   "outputs": [],
   "source": [
    "import pandas as pd\n",
    "import seaborn as sns\n",
    "import numpy as np\n",
    "import matplotlib.pyplot as plt"
   ]
  },
  {
   "cell_type": "markdown",
   "id": "24374a33-6c70-49d5-8680-8b1ece255db3",
   "metadata": {},
   "source": [
    "#### KITA JUGA DAPAT MENGIMPORT LIBRARY WARNING\n",
    "#### UNTUK MENGHILANGKAN NOTIF WARNING"
   ]
  },
  {
   "cell_type": "code",
   "execution_count": 3,
   "id": "44929f25-8d2b-4b42-b2f3-3f4a118e259a",
   "metadata": {},
   "outputs": [],
   "source": [
    "import warnings\n",
    "warnings.filterwarnings('ignore')"
   ]
  },
  {
   "cell_type": "markdown",
   "id": "1865d606-f602-4174-b500-1090555fcea4",
   "metadata": {},
   "source": [
    "#### IMPORT DATASET YANG DIGUNAKAN"
   ]
  },
  {
   "cell_type": "code",
   "execution_count": 22,
   "id": "ecedaa99-8d84-4650-bd86-2cad7541516c",
   "metadata": {},
   "outputs": [
    {
     "data": {
      "text/html": [
       "<div>\n",
       "<style scoped>\n",
       "    .dataframe tbody tr th:only-of-type {\n",
       "        vertical-align: middle;\n",
       "    }\n",
       "\n",
       "    .dataframe tbody tr th {\n",
       "        vertical-align: top;\n",
       "    }\n",
       "\n",
       "    .dataframe thead th {\n",
       "        text-align: right;\n",
       "    }\n",
       "</style>\n",
       "<table border=\"1\" class=\"dataframe\">\n",
       "  <thead>\n",
       "    <tr style=\"text-align: right;\">\n",
       "      <th></th>\n",
       "      <th>Unnamed: 0</th>\n",
       "      <th>emp_id</th>\n",
       "      <th>age</th>\n",
       "      <th>Dept</th>\n",
       "      <th>location</th>\n",
       "      <th>education</th>\n",
       "      <th>recruitment_type</th>\n",
       "      <th>job_level</th>\n",
       "      <th>rating</th>\n",
       "      <th>onsite</th>\n",
       "      <th>awards</th>\n",
       "      <th>certifications</th>\n",
       "      <th>salary</th>\n",
       "      <th>satisfied</th>\n",
       "    </tr>\n",
       "  </thead>\n",
       "  <tbody>\n",
       "    <tr>\n",
       "      <th>516</th>\n",
       "      <td>516</td>\n",
       "      <td>TECH2890</td>\n",
       "      <td>26</td>\n",
       "      <td>Technology</td>\n",
       "      <td>City</td>\n",
       "      <td>UG</td>\n",
       "      <td>On-Campus</td>\n",
       "      <td>2</td>\n",
       "      <td>1</td>\n",
       "      <td>0</td>\n",
       "      <td>1</td>\n",
       "      <td>0</td>\n",
       "      <td>28890</td>\n",
       "      <td>0</td>\n",
       "    </tr>\n",
       "    <tr>\n",
       "      <th>517</th>\n",
       "      <td>517</td>\n",
       "      <td>TECH1246</td>\n",
       "      <td>25</td>\n",
       "      <td>Technology</td>\n",
       "      <td>City</td>\n",
       "      <td>PG</td>\n",
       "      <td>On-Campus</td>\n",
       "      <td>1</td>\n",
       "      <td>2</td>\n",
       "      <td>0</td>\n",
       "      <td>3</td>\n",
       "      <td>1</td>\n",
       "      <td>31184</td>\n",
       "      <td>1</td>\n",
       "    </tr>\n",
       "    <tr>\n",
       "      <th>518</th>\n",
       "      <td>518</td>\n",
       "      <td>SAL9734</td>\n",
       "      <td>22</td>\n",
       "      <td>Sales</td>\n",
       "      <td>City</td>\n",
       "      <td>PG</td>\n",
       "      <td>Recruitment Agency</td>\n",
       "      <td>3</td>\n",
       "      <td>3</td>\n",
       "      <td>1</td>\n",
       "      <td>5</td>\n",
       "      <td>0</td>\n",
       "      <td>29014</td>\n",
       "      <td>1</td>\n",
       "    </tr>\n",
       "    <tr>\n",
       "      <th>519</th>\n",
       "      <td>519</td>\n",
       "      <td>HR2617</td>\n",
       "      <td>30</td>\n",
       "      <td>HR</td>\n",
       "      <td>City</td>\n",
       "      <td>UG</td>\n",
       "      <td>Recruitment Agency</td>\n",
       "      <td>3</td>\n",
       "      <td>4</td>\n",
       "      <td>1</td>\n",
       "      <td>5</td>\n",
       "      <td>1</td>\n",
       "      <td>33910</td>\n",
       "      <td>0</td>\n",
       "    </tr>\n",
       "    <tr>\n",
       "      <th>520</th>\n",
       "      <td>520</td>\n",
       "      <td>HR8821</td>\n",
       "      <td>30</td>\n",
       "      <td>HR</td>\n",
       "      <td>Suburb</td>\n",
       "      <td>PG</td>\n",
       "      <td>On-Campus</td>\n",
       "      <td>4</td>\n",
       "      <td>4</td>\n",
       "      <td>0</td>\n",
       "      <td>1</td>\n",
       "      <td>0</td>\n",
       "      <td>22654</td>\n",
       "      <td>1</td>\n",
       "    </tr>\n",
       "  </tbody>\n",
       "</table>\n",
       "</div>"
      ],
      "text/plain": [
       "     Unnamed: 0    emp_id  age        Dept location education  \\\n",
       "516         516  TECH2890   26  Technology     City        UG   \n",
       "517         517  TECH1246   25  Technology     City        PG   \n",
       "518         518   SAL9734   22       Sales     City        PG   \n",
       "519         519    HR2617   30          HR     City        UG   \n",
       "520         520    HR8821   30          HR   Suburb        PG   \n",
       "\n",
       "       recruitment_type  job_level  rating  onsite  awards  certifications  \\\n",
       "516           On-Campus          2       1       0       1               0   \n",
       "517           On-Campus          1       2       0       3               1   \n",
       "518  Recruitment Agency          3       3       1       5               0   \n",
       "519  Recruitment Agency          3       4       1       5               1   \n",
       "520           On-Campus          4       4       0       1               0   \n",
       "\n",
       "     salary  satisfied  \n",
       "516   28890          0  \n",
       "517   31184          1  \n",
       "518   29014          1  \n",
       "519   33910          0  \n",
       "520   22654          1  "
      ]
     },
     "execution_count": 22,
     "metadata": {},
     "output_type": "execute_result"
    }
   ],
   "source": [
    "df = pd.read_csv(\"EmployeeIndex.csv\")\n",
    "df.tail()"
   ]
  },
  {
   "cell_type": "markdown",
   "id": "f0fabd4e-6093-44df-8bad-cb4cad804504",
   "metadata": {},
   "source": [
    "#### MENGECEK NILAI NULL PADA DATASET"
   ]
  },
  {
   "cell_type": "code",
   "execution_count": 23,
   "id": "6ff0bb5d-06c7-4cbf-ad31-a3728ced25c8",
   "metadata": {},
   "outputs": [
    {
     "data": {
      "text/plain": [
       "Unnamed: 0          0\n",
       "emp_id              0\n",
       "age                 0\n",
       "Dept                0\n",
       "location            0\n",
       "education           0\n",
       "recruitment_type    0\n",
       "job_level           0\n",
       "rating              0\n",
       "onsite              0\n",
       "awards              0\n",
       "certifications      0\n",
       "salary              0\n",
       "satisfied           0\n",
       "dtype: int64"
      ]
     },
     "execution_count": 23,
     "metadata": {},
     "output_type": "execute_result"
    }
   ],
   "source": [
    "df.isnull().sum()"
   ]
  },
  {
   "cell_type": "markdown",
   "id": "ddee6964-2ac5-4d50-877b-b576df5edd75",
   "metadata": {},
   "source": [
    "#### MENGECEK NILAI DUPLIKAT PADA DATASET"
   ]
  },
  {
   "cell_type": "code",
   "execution_count": 24,
   "id": "e29744e8-750b-4370-bc5f-5532ac9575a4",
   "metadata": {},
   "outputs": [
    {
     "data": {
      "text/html": [
       "<div>\n",
       "<style scoped>\n",
       "    .dataframe tbody tr th:only-of-type {\n",
       "        vertical-align: middle;\n",
       "    }\n",
       "\n",
       "    .dataframe tbody tr th {\n",
       "        vertical-align: top;\n",
       "    }\n",
       "\n",
       "    .dataframe thead th {\n",
       "        text-align: right;\n",
       "    }\n",
       "</style>\n",
       "<table border=\"1\" class=\"dataframe\">\n",
       "  <thead>\n",
       "    <tr style=\"text-align: right;\">\n",
       "      <th></th>\n",
       "      <th>Unnamed: 0</th>\n",
       "      <th>emp_id</th>\n",
       "      <th>age</th>\n",
       "      <th>Dept</th>\n",
       "      <th>location</th>\n",
       "      <th>education</th>\n",
       "      <th>recruitment_type</th>\n",
       "      <th>job_level</th>\n",
       "      <th>rating</th>\n",
       "      <th>onsite</th>\n",
       "      <th>awards</th>\n",
       "      <th>certifications</th>\n",
       "      <th>salary</th>\n",
       "      <th>satisfied</th>\n",
       "    </tr>\n",
       "  </thead>\n",
       "  <tbody>\n",
       "  </tbody>\n",
       "</table>\n",
       "</div>"
      ],
      "text/plain": [
       "Empty DataFrame\n",
       "Columns: [Unnamed: 0, emp_id, age, Dept, location, education, recruitment_type, job_level, rating, onsite, awards, certifications, salary, satisfied]\n",
       "Index: []"
      ]
     },
     "execution_count": 24,
     "metadata": {},
     "output_type": "execute_result"
    }
   ],
   "source": [
    "df[df.duplicated()]"
   ]
  },
  {
   "cell_type": "code",
   "execution_count": 25,
   "id": "4629b496-656f-4441-8cc8-25aeab5652e6",
   "metadata": {},
   "outputs": [
    {
     "data": {
      "text/plain": [
       "0"
      ]
     },
     "execution_count": 25,
     "metadata": {},
     "output_type": "execute_result"
    }
   ],
   "source": [
    "df.duplicated().sum()"
   ]
  },
  {
   "cell_type": "markdown",
   "id": "108a9823-2909-42fd-bc03-f8abd58bb144",
   "metadata": {},
   "source": [
    "#### STANDARISASI TERHADAP DATA"
   ]
  },
  {
   "cell_type": "code",
   "execution_count": 26,
   "id": "3bc23a0f-15c8-4621-9ae4-5f032503f148",
   "metadata": {},
   "outputs": [],
   "source": [
    "# Import Library yang akan digunakan\n",
    "from sklearn.preprocessing import StandardScaler"
   ]
  },
  {
   "cell_type": "code",
   "execution_count": 27,
   "id": "f71fb107-95b7-477c-9375-5a92171427e9",
   "metadata": {},
   "outputs": [],
   "source": [
    "standard = StandardScaler()"
   ]
  },
  {
   "cell_type": "code",
   "execution_count": 28,
   "id": "b4b88419-382e-4506-ab77-bd67d1b760ee",
   "metadata": {},
   "outputs": [],
   "source": [
    "x_standard = standard.fit_transform(df[[\"age\", \"job_level\", \"rating\", \"awards\", \"salary\"]])"
   ]
  },
  {
   "cell_type": "code",
   "execution_count": 29,
   "id": "6cb550ce-b033-4532-9e6b-f452bd34e93f",
   "metadata": {},
   "outputs": [
    {
     "name": "stdout",
     "output_type": "stream",
     "text": [
      "Nilai sesudah di standarisasi :  1.0\n"
     ]
    }
   ],
   "source": [
    "print(\"Nilai sesudah di standarisasi : \", np.nanstd(x_standard))"
   ]
  },
  {
   "cell_type": "markdown",
   "id": "e1687dcc-2321-4fc7-bd25-e9e98987f618",
   "metadata": {},
   "source": [
    "#### MEMBUAT SUBSET"
   ]
  },
  {
   "cell_type": "code",
   "execution_count": 96,
   "id": "9e10ff43-4ead-4173-98ce-215b5ea7b2d1",
   "metadata": {},
   "outputs": [],
   "source": [
    "subset = df[['age', 'salary']]"
   ]
  },
  {
   "cell_type": "code",
   "execution_count": 97,
   "id": "a8236df5-e1d3-4311-8af1-11df134a3c29",
   "metadata": {},
   "outputs": [],
   "source": [
    "x_scaled = standard.fit_transform(subset)"
   ]
  },
  {
   "cell_type": "markdown",
   "id": "5cbef0f4-557c-4bea-954a-1fec2c85838e",
   "metadata": {},
   "source": [
    "#### MENGGUNAKAN ALGORITMA CLUSTERING"
   ]
  },
  {
   "cell_type": "markdown",
   "id": "56900c27-8eb2-4943-97e5-90cef6b10d78",
   "metadata": {},
   "source": [
    "#### KMEANS"
   ]
  },
  {
   "cell_type": "markdown",
   "id": "d2a29cbe-8ba2-4452-9ca1-13c72be62962",
   "metadata": {},
   "source": [
    "#### IMPORT LIBRARY YANG DIGUNAKAN PADA KMEANS"
   ]
  },
  {
   "cell_type": "code",
   "execution_count": 98,
   "id": "fbfbcda0-bff2-4f7b-854e-a563ef3f7e11",
   "metadata": {},
   "outputs": [],
   "source": [
    "from sklearn.cluster import KMeans"
   ]
  },
  {
   "cell_type": "code",
   "execution_count": 99,
   "id": "16c40b54-2029-48ae-af42-796fc6eeff62",
   "metadata": {},
   "outputs": [
    {
     "data": {
      "text/html": [
       "<style>#sk-container-id-7 {color: black;background-color: white;}#sk-container-id-7 pre{padding: 0;}#sk-container-id-7 div.sk-toggleable {background-color: white;}#sk-container-id-7 label.sk-toggleable__label {cursor: pointer;display: block;width: 100%;margin-bottom: 0;padding: 0.3em;box-sizing: border-box;text-align: center;}#sk-container-id-7 label.sk-toggleable__label-arrow:before {content: \"▸\";float: left;margin-right: 0.25em;color: #696969;}#sk-container-id-7 label.sk-toggleable__label-arrow:hover:before {color: black;}#sk-container-id-7 div.sk-estimator:hover label.sk-toggleable__label-arrow:before {color: black;}#sk-container-id-7 div.sk-toggleable__content {max-height: 0;max-width: 0;overflow: hidden;text-align: left;background-color: #f0f8ff;}#sk-container-id-7 div.sk-toggleable__content pre {margin: 0.2em;color: black;border-radius: 0.25em;background-color: #f0f8ff;}#sk-container-id-7 input.sk-toggleable__control:checked~div.sk-toggleable__content {max-height: 200px;max-width: 100%;overflow: auto;}#sk-container-id-7 input.sk-toggleable__control:checked~label.sk-toggleable__label-arrow:before {content: \"▾\";}#sk-container-id-7 div.sk-estimator input.sk-toggleable__control:checked~label.sk-toggleable__label {background-color: #d4ebff;}#sk-container-id-7 div.sk-label input.sk-toggleable__control:checked~label.sk-toggleable__label {background-color: #d4ebff;}#sk-container-id-7 input.sk-hidden--visually {border: 0;clip: rect(1px 1px 1px 1px);clip: rect(1px, 1px, 1px, 1px);height: 1px;margin: -1px;overflow: hidden;padding: 0;position: absolute;width: 1px;}#sk-container-id-7 div.sk-estimator {font-family: monospace;background-color: #f0f8ff;border: 1px dotted black;border-radius: 0.25em;box-sizing: border-box;margin-bottom: 0.5em;}#sk-container-id-7 div.sk-estimator:hover {background-color: #d4ebff;}#sk-container-id-7 div.sk-parallel-item::after {content: \"\";width: 100%;border-bottom: 1px solid gray;flex-grow: 1;}#sk-container-id-7 div.sk-label:hover label.sk-toggleable__label {background-color: #d4ebff;}#sk-container-id-7 div.sk-serial::before {content: \"\";position: absolute;border-left: 1px solid gray;box-sizing: border-box;top: 0;bottom: 0;left: 50%;z-index: 0;}#sk-container-id-7 div.sk-serial {display: flex;flex-direction: column;align-items: center;background-color: white;padding-right: 0.2em;padding-left: 0.2em;position: relative;}#sk-container-id-7 div.sk-item {position: relative;z-index: 1;}#sk-container-id-7 div.sk-parallel {display: flex;align-items: stretch;justify-content: center;background-color: white;position: relative;}#sk-container-id-7 div.sk-item::before, #sk-container-id-7 div.sk-parallel-item::before {content: \"\";position: absolute;border-left: 1px solid gray;box-sizing: border-box;top: 0;bottom: 0;left: 50%;z-index: -1;}#sk-container-id-7 div.sk-parallel-item {display: flex;flex-direction: column;z-index: 1;position: relative;background-color: white;}#sk-container-id-7 div.sk-parallel-item:first-child::after {align-self: flex-end;width: 50%;}#sk-container-id-7 div.sk-parallel-item:last-child::after {align-self: flex-start;width: 50%;}#sk-container-id-7 div.sk-parallel-item:only-child::after {width: 0;}#sk-container-id-7 div.sk-dashed-wrapped {border: 1px dashed gray;margin: 0 0.4em 0.5em 0.4em;box-sizing: border-box;padding-bottom: 0.4em;background-color: white;}#sk-container-id-7 div.sk-label label {font-family: monospace;font-weight: bold;display: inline-block;line-height: 1.2em;}#sk-container-id-7 div.sk-label-container {text-align: center;}#sk-container-id-7 div.sk-container {/* jupyter's `normalize.less` sets `[hidden] { display: none; }` but bootstrap.min.css set `[hidden] { display: none !important; }` so we also need the `!important` here to be able to override the default hidden behavior on the sphinx rendered scikit-learn.org. See: https://github.com/scikit-learn/scikit-learn/issues/21755 */display: inline-block !important;position: relative;}#sk-container-id-7 div.sk-text-repr-fallback {display: none;}</style><div id=\"sk-container-id-7\" class=\"sk-top-container\"><div class=\"sk-text-repr-fallback\"><pre>KMeans(n_clusters=3, random_state=0)</pre><b>In a Jupyter environment, please rerun this cell to show the HTML representation or trust the notebook. <br />On GitHub, the HTML representation is unable to render, please try loading this page with nbviewer.org.</b></div><div class=\"sk-container\" hidden><div class=\"sk-item\"><div class=\"sk-estimator sk-toggleable\"><input class=\"sk-toggleable__control sk-hidden--visually\" id=\"sk-estimator-id-7\" type=\"checkbox\" checked><label for=\"sk-estimator-id-7\" class=\"sk-toggleable__label sk-toggleable__label-arrow\">KMeans</label><div class=\"sk-toggleable__content\"><pre>KMeans(n_clusters=3, random_state=0)</pre></div></div></div></div></div>"
      ],
      "text/plain": [
       "KMeans(n_clusters=3, random_state=0)"
      ]
     },
     "execution_count": 99,
     "metadata": {},
     "output_type": "execute_result"
    }
   ],
   "source": [
    "km = KMeans(n_clusters = 3, random_state = 0)\n",
    "km.fit(x_scaled)"
   ]
  },
  {
   "cell_type": "code",
   "execution_count": 100,
   "id": "56d5004a-136e-4a42-97d7-37c30f4c9698",
   "metadata": {},
   "outputs": [
    {
     "name": "stdout",
     "output_type": "stream",
     "text": [
      "[0 2 0 2 1 2 0 1 1 2 0 2 1 2 0 0 1 1 2 0 1 0 0 0 0 0 0 1 0 2 2 2 2 0 2 0 2\n",
      " 1 2 1 1 2 2 1 1 0 1 2 0 1 0 2 2 2 0 2 0 2 0 0 0 2 0 0 1 0 2 1 2 1 1 1 2 2\n",
      " 0 0 1 1 0 0 2 1 2 1 0 2 0 2 1 0 0 1 0 2 1 0 0 2 2 0 0 0 0 2 2 0 0 0 1 0 0\n",
      " 2 1 1 0 1 1 0 1 1 0 0 1 0 2 1 2 0 2 0 0 1 2 2 2 1 1 0 1 2 1 1 0 0 0 2 2 0\n",
      " 1 0 1 0 0 2 2 2 2 1 2 1 2 1 1 1 1 2 1 2 2 2 0 0 1 2 1 1 1 2 2 2 1 0 2 0 0\n",
      " 2 2 0 2 0 1 2 1 2 0 2 1 0 2 2 2 0 2 0 1 0 2 0 0 1 2 2 2 1 1 2 1 2 2 2 1 1\n",
      " 0 1 1 0 0 0 2 2 0 0 2 0 1 0 2 2 1 1 1 0 0 2 0 0 2 0 2 2 0 0 0 2 2 0 0 0 0\n",
      " 2 0 0 1 1 1 1 1 2 0 0 1 2 1 0 2 0 1 2 0 2 0 1 1 2 1 0 2 1 0 0 0 2 2 2 2 2\n",
      " 2 0 1 2 1 1 0 0 2 2 0 1 1 2 1 2 0 2 2 2 0 2 2 1 2 2 0 1 0 1 1 1 1 2 0 0 2\n",
      " 1 1 1 0 1 2 2 0 2 1 1 1 1 0 1 2 0 1 0 1 0 1 2 2 1 1 1 0 1 0 2 0 0 0 1 0 2\n",
      " 2 0 0 2 1 1 0 2 1 1 2 0 1 2 1 0 0 0 2 2 2 0 1 1 1 1 0 0 2 0 0 0 2 2 0 0 1\n",
      " 1 0 0 0 2 0 0 2 2 0 2 2 0 2 2 2 2 2 2 1 0 1 1 2 2 2 0 0 0 2 0 1 2 2 0 1 2\n",
      " 2 0 1 0 2 2 1 2 1 2 0 1 1 2 2 1 0 1 0 1 0 0 2 2 2 2 0 0 2 0 2 1 2 0 0 0 1\n",
      " 0 0 1 1 0 0 0 2 1 0 1 1 0 1 2 1 1 1 1 1 1 1 1 1 1 1 2 1 1 1 1 2 2 2 1 1 1\n",
      " 1 1 1]\n"
     ]
    }
   ],
   "source": [
    "labels = km.labels_\n",
    "print(labels)"
   ]
  },
  {
   "cell_type": "markdown",
   "id": "f5b92a8e-8c92-4fe1-a681-1a9d22321713",
   "metadata": {},
   "source": [
    "#### EVALUASI CROSS TAB"
   ]
  },
  {
   "cell_type": "code",
   "execution_count": 101,
   "id": "70657f7c-abe9-4e0e-a185-6147a31f50be",
   "metadata": {},
   "outputs": [],
   "source": [
    "kmeans = pd.DataFrame({'labels':labels, 'Dept':df.Dept})"
   ]
  },
  {
   "cell_type": "code",
   "execution_count": 102,
   "id": "b9ec2ab3-d0f4-4f11-990d-21941afb0260",
   "metadata": {},
   "outputs": [
    {
     "data": {
      "text/html": [
       "<div>\n",
       "<style scoped>\n",
       "    .dataframe tbody tr th:only-of-type {\n",
       "        vertical-align: middle;\n",
       "    }\n",
       "\n",
       "    .dataframe tbody tr th {\n",
       "        vertical-align: top;\n",
       "    }\n",
       "\n",
       "    .dataframe thead th {\n",
       "        text-align: right;\n",
       "    }\n",
       "</style>\n",
       "<table border=\"1\" class=\"dataframe\">\n",
       "  <thead>\n",
       "    <tr style=\"text-align: right;\">\n",
       "      <th>Dept</th>\n",
       "      <th>HR</th>\n",
       "      <th>Marketing</th>\n",
       "      <th>Purchasing</th>\n",
       "      <th>Sales</th>\n",
       "      <th>Technology</th>\n",
       "    </tr>\n",
       "    <tr>\n",
       "      <th>labels</th>\n",
       "      <th></th>\n",
       "      <th></th>\n",
       "      <th></th>\n",
       "      <th></th>\n",
       "      <th></th>\n",
       "    </tr>\n",
       "  </thead>\n",
       "  <tbody>\n",
       "    <tr>\n",
       "      <th>0</th>\n",
       "      <td>36</td>\n",
       "      <td>34</td>\n",
       "      <td>47</td>\n",
       "      <td>39</td>\n",
       "      <td>23</td>\n",
       "    </tr>\n",
       "    <tr>\n",
       "      <th>1</th>\n",
       "      <td>46</td>\n",
       "      <td>32</td>\n",
       "      <td>27</td>\n",
       "      <td>27</td>\n",
       "      <td>35</td>\n",
       "    </tr>\n",
       "    <tr>\n",
       "      <th>2</th>\n",
       "      <td>30</td>\n",
       "      <td>34</td>\n",
       "      <td>36</td>\n",
       "      <td>29</td>\n",
       "      <td>46</td>\n",
       "    </tr>\n",
       "  </tbody>\n",
       "</table>\n",
       "</div>"
      ],
      "text/plain": [
       "Dept    HR  Marketing  Purchasing  Sales  Technology\n",
       "labels                                              \n",
       "0       36         34          47     39          23\n",
       "1       46         32          27     27          35\n",
       "2       30         34          36     29          46"
      ]
     },
     "execution_count": 102,
     "metadata": {},
     "output_type": "execute_result"
    }
   ],
   "source": [
    "crosstab = pd.crosstab(kmeans['labels'], kmeans['Dept'])\n",
    "crosstab"
   ]
  },
  {
   "cell_type": "markdown",
   "id": "45939976-edef-41ac-a6fd-e1097fe0fa16",
   "metadata": {},
   "source": [
    "#### MENAMPILKAN CENTROID TIAP CLUSTER"
   ]
  },
  {
   "cell_type": "code",
   "execution_count": 103,
   "id": "5cc2622b-a5b0-456c-b903-9c9e5d95e626",
   "metadata": {},
   "outputs": [],
   "source": [
    "scalex = x_scaled[:, 0]\n",
    "scaley = x_scaled[:, 1]"
   ]
  },
  {
   "cell_type": "code",
   "execution_count": 104,
   "id": "63f6b186-6b12-40b5-b5cc-0d07c839c15e",
   "metadata": {},
   "outputs": [],
   "source": [
    "centroids = km.cluster_centers_\n",
    "x_centroids = centroids[:, 0]\n",
    "y_centroids = centroids[:, 1]"
   ]
  },
  {
   "cell_type": "code",
   "execution_count": 108,
   "id": "22260ea6-7dea-4695-9983-94d398337256",
   "metadata": {},
   "outputs": [
    {
     "data": {
      "image/png": "[encoded data removed]",
      "text/plain": [
       "<Figure size 1000x500 with 1 Axes>"
      ]
     },
     "metadata": {},
     "output_type": "display_data"
    }
   ],
   "source": [
    "plt.figure(figsize = (10,5))\n",
    "plt.style.use('ggplot') # untuk menampilkan grid background #\n",
    "plt.scatter(scalex, scaley, c = labels, alpha = 0.5)\n",
    "plt.scatter(x_centroids, y_centroids, marker = 'D', label = \"Centroid\")\n",
    "plt.xlabel(\"Age\")\n",
    "plt.ylabel(\"Salary\")\n",
    "plt.legend()\n",
    "plt.show()"
   ]
  },
  {
   "cell_type": "markdown",
   "id": "928cff13-76bf-49cc-a141-7eeb0c27d545",
   "metadata": {},
   "source": [
    "#### MENENTUKAN CLUSTER DENGAN METODE ELBOW"
   ]
  },
  {
   "cell_type": "code",
   "execution_count": 110,
   "id": "d3bb5cc8-a072-40cf-8c85-a15478bddab7",
   "metadata": {},
   "outputs": [
    {
     "data": {
      "image/png": "[encoded data removed]",
      "text/plain": [
       "<Figure size 1000x500 with 1 Axes>"
      ]
     },
     "metadata": {},
     "output_type": "display_data"
    }
   ],
   "source": [
    "ks = range(1, 6)\n",
    "inertias = []\n",
    "for k in ks:\n",
    "    model = KMeans(n_clusters=k)\n",
    "    model.fit(x_scaled)\n",
    "    inertias.append(model.inertia_)\n",
    "    \n",
    "# Plot ks vs inertias\n",
    "plt.figure(figsize=(10,5))\n",
    "plt.plot(ks, inertias, '-o')\n",
    "plt.xlabel('Jumlah Cluster, k')\n",
    "plt.ylabel('inertia')\n",
    "plt.xticks(ks)\n",
    "plt.show()"
   ]
  },
  {
   "cell_type": "markdown",
   "id": "0561ee5a-23a9-4520-ae0b-5f9eae5f289c",
   "metadata": {},
   "source": [
    "## SELESAI"
   ]
  },
  {
   "cell_type": "markdown",
   "id": "c333e681-e742-470f-a4c0-45b7e7244af0",
   "metadata": {},
   "source": [
    "## TERIMA KASIH"
   ]
  },
  {
   "cell_type": "code",
   "execution_count": null,
   "id": "9d0f9919-b1b3-4874-8521-b54fd6a06fe1",
   "metadata": {},
   "outputs": [],
   "source": []
  }
 ],
 "metadata": {
  "kernelspec": {
   "display_name": "Python 3 (ipykernel)",
   "language": "python",
   "name": "python3"
  },
  "language_info": {
   "codemirror_mode": {
    "name": "ipython",
    "version": 3
   },
   "file_extension": ".py",
   "mimetype": "text/x-python",
   "name": "python",
   "nbconvert_exporter": "python",
   "pygments_lexer": "ipython3",
   "version": "3.10.7"
  }
 },
 "nbformat": 4,
 "nbformat_minor": 5
}
