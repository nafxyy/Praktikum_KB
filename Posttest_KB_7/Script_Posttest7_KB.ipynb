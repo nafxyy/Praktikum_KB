{
 "cells": [
  {
   "cell_type": "markdown",
   "id": "a4699d48-ed98-4f38-ad64-24176da8f487",
   "metadata": {},
   "source": [
    "## NAMA: MUHAMMAD NAUFAL IHSAN MAULIDIN\n",
    "## NIM: 2109106034\n",
    "## KELAS: INFORMATIKA A2 2021\n",
    "## POSTTEST 7 KB"
   ]
  },
  {
   "cell_type": "markdown",
   "id": "04f3061c-0331-4e9f-8a40-4e5cc27115ba",
   "metadata": {},
   "source": [
    "### IMPORT LIBRARY TENSORFLOW YANG AKAN DIGUNAKAN"
   ]
  },
  {
   "cell_type": "code",
   "execution_count": 1,
   "id": "d8cbc946-18c7-41be-8efa-8153fe34d0b9",
   "metadata": {},
   "outputs": [],
   "source": [
    "import tensorflow as tf"
   ]
  },
  {
   "cell_type": "markdown",
   "id": "59364932-4c46-410b-b3bf-332b15004fd5",
   "metadata": {},
   "source": [
    "### MEMBUAT VARIABEL RANDOM_TENSOR [5,5]"
   ]
  },
  {
   "cell_type": "code",
   "execution_count": 2,
   "id": "92c44a15-ec5c-4e21-a148-7ea08d6b4d7b",
   "metadata": {},
   "outputs": [],
   "source": [
    "random_tensor = tf.random.normal([5,5], seed=1)"
   ]
  },
  {
   "cell_type": "code",
   "execution_count": 3,
   "id": "8238870c-5ae7-43d3-8b30-ae69abe2fc27",
   "metadata": {},
   "outputs": [
    {
     "data": {
      "text/plain": [
       "array([[-0.8113182 ,  1.4845988 ,  0.06532937, -2.4427042 ,  0.0992484 ],\n",
       "       [ 0.5912243 ,  0.59282297, -2.1229296 , -0.72289723, -0.05627038],\n",
       "       [ 0.6435448 , -0.26432407,  1.8566332 ,  0.5678417 , -0.3828359 ],\n",
       "       [-1.4853433 ,  1.2617711 , -0.02530608, -0.2646297 ,  1.5328138 ],\n",
       "       [-1.7429771 , -0.43789294, -0.56601   ,  0.32066926,  1.132831  ]],\n",
       "      dtype=float32)"
      ]
     },
     "execution_count": 3,
     "metadata": {},
     "output_type": "execute_result"
    }
   ],
   "source": [
    "random_tensor.numpy()"
   ]
  },
  {
   "cell_type": "raw",
   "id": "4e4a052e-5ca0-4da8-b3c0-c1505abe44e4",
   "metadata": {},
   "source": []
  },
  {
   "cell_type": "markdown",
   "id": "69f8eaa5-7ab2-45b6-a07b-0512527ce0ed",
   "metadata": {},
   "source": [
    "### MEMBUAT VARIABEL PRIME_TENSOR BILANGAN PRIMA [5,5]"
   ]
  },
  {
   "cell_type": "code",
   "execution_count": 4,
   "id": "f91c5960-df6c-46af-bdcd-0de39f35f48a",
   "metadata": {},
   "outputs": [],
   "source": [
    "list1 = [2,3,5,7,11], [13,17,19,23,29], [31, 37, 41, 43, 47], [53, 59, 61, 67, 71], [73, 79, 83, 89, 97]\n",
    "\n",
    "\n",
    "prime_tensor = tf.convert_to_tensor(list1, dtype = tf.float32)"
   ]
  },
  {
   "cell_type": "code",
   "execution_count": 5,
   "id": "3bf93f7d-b507-422c-8b80-78a336a41893",
   "metadata": {},
   "outputs": [
    {
     "data": {
      "text/plain": [
       "<tf.Tensor: shape=(5, 5), dtype=float32, numpy=\n",
       "array([[ 2.,  3.,  5.,  7., 11.],\n",
       "       [13., 17., 19., 23., 29.],\n",
       "       [31., 37., 41., 43., 47.],\n",
       "       [53., 59., 61., 67., 71.],\n",
       "       [73., 79., 83., 89., 97.]], dtype=float32)>"
      ]
     },
     "execution_count": 5,
     "metadata": {},
     "output_type": "execute_result"
    }
   ],
   "source": [
    "prime_tensor"
   ]
  },
  {
   "cell_type": "raw",
   "id": "e784d5d1-4674-41aa-ad7e-7a56a08b276f",
   "metadata": {},
   "source": []
  },
  {
   "cell_type": "markdown",
   "id": "a068fd75-7cee-4cd4-b9fa-5c0be4b77901",
   "metadata": {},
   "source": [
    "### TAMPILKAN DIMENSI KEDUA VARIABEL"
   ]
  },
  {
   "cell_type": "code",
   "execution_count": 9,
   "id": "99562169-8b79-46a3-a0d2-fc3a1c7c5daa",
   "metadata": {},
   "outputs": [
    {
     "name": "stdout",
     "output_type": "stream",
     "text": [
      "Dimensi Variabel Random = (5, 5)\n"
     ]
    }
   ],
   "source": [
    "print(\"Dimensi Variabel Random =\",random_tensor.shape)"
   ]
  },
  {
   "cell_type": "code",
   "execution_count": 11,
   "id": "7dc7e128-97a6-4985-8902-a6aa800ac8e5",
   "metadata": {},
   "outputs": [
    {
     "name": "stdout",
     "output_type": "stream",
     "text": [
      "Dimensi Variabel Prime = (5, 5)\n"
     ]
    }
   ],
   "source": [
    "print(\"Dimensi Variabel Prime =\", prime_tensor.shape)"
   ]
  },
  {
   "cell_type": "raw",
   "id": "738d730b-ab12-4125-8588-ff422ad9042c",
   "metadata": {},
   "source": []
  },
  {
   "cell_type": "markdown",
   "id": "1dec9d72-cd15-47d5-971a-795df1f3f238",
   "metadata": {},
   "source": [
    "### OPERASI ARITMETIKA"
   ]
  },
  {
   "cell_type": "markdown",
   "id": "d352f901-ecbb-4c34-a1b7-0edecec0035e",
   "metadata": {},
   "source": [
    "#### 1.) PENJUMLAHAN"
   ]
  },
  {
   "cell_type": "code",
   "execution_count": 54,
   "id": "230cee83-9534-4911-aef0-ee974eb5a65c",
   "metadata": {},
   "outputs": [
    {
     "name": "stdout",
     "output_type": "stream",
     "text": [
      "tf.Tensor(\n",
      "[[ 3.0767934  3.7302108  4.3937006  5.6766787 11.572046 ]\n",
      " [13.4062395 16.515495  18.449005  22.617462  27.632383 ]\n",
      " [29.683523  38.72908   41.359016  41.99056   46.51821  ]\n",
      " [51.044933  59.425167  61.905468  67.51601   71.820786 ]\n",
      " [73.51527   78.88974   84.12163   88.8173    96.01716  ]], shape=(5, 5), dtype=float32)\n"
     ]
    }
   ],
   "source": [
    "print(tf.add(random_tensor, prime_tensor))"
   ]
  },
  {
   "cell_type": "markdown",
   "id": "aa16d92d-ecec-421c-b7b6-b444b3c8f715",
   "metadata": {},
   "source": [
    "#### 2.) PENGURANGAN"
   ]
  },
  {
   "cell_type": "code",
   "execution_count": 59,
   "id": "49c9b418-4ef8-4327-91a2-18c84e874391",
   "metadata": {},
   "outputs": [
    {
     "name": "stdout",
     "output_type": "stream",
     "text": [
      "tf.Tensor(\n",
      "[[ -0.92320657  -2.2697892   -5.6062994   -8.323321   -10.427954  ]\n",
      " [-12.5937605  -17.484505   -19.550995   -23.382538   -30.367617  ]\n",
      " [-32.316475   -35.27092    -40.640984   -44.00944    -47.48179   ]\n",
      " [-54.955067   -58.574833   -60.094532   -66.48399    -70.179214  ]\n",
      " [-72.48473    -79.11026    -81.87837    -89.1827     -97.98284   ]], shape=(5, 5), dtype=float32)\n"
     ]
    }
   ],
   "source": [
    "print(tf.subtract(random_tensor, prime_tensor))"
   ]
  },
  {
   "cell_type": "markdown",
   "id": "2b707e3f-02ac-4ed4-961b-bcbf50c5b9c3",
   "metadata": {},
   "source": [
    "#### 3.) PERKALIAN"
   ]
  },
  {
   "cell_type": "code",
   "execution_count": 60,
   "id": "061522fd-cfd2-4a13-bf83-9df05dd68d4f",
   "metadata": {},
   "outputs": [
    {
     "name": "stdout",
     "output_type": "stream",
     "text": [
      "tf.Tensor(\n",
      "[[   2.1535869    2.1906319   -3.0314972   -9.2632475    6.2925086]\n",
      " [   5.2811136   -8.236585   -10.468915    -8.798384   -39.660877 ]\n",
      " [ -40.81077     63.975994    14.719699   -43.40595    -22.644089 ]\n",
      " [-103.61845     25.084763    55.233448    34.572483    58.27584  ]\n",
      " [  37.614635    -8.710547    93.09525    -16.260405   -95.33581  ]], shape=(5, 5), dtype=float32)\n"
     ]
    }
   ],
   "source": [
    "print(tf.multiply(random_tensor, prime_tensor))"
   ]
  },
  {
   "cell_type": "markdown",
   "id": "253c264e-ab55-4154-a909-66f6630b1034",
   "metadata": {},
   "source": [
    "#### 4.) PEMBAGIAN"
   ]
  },
  {
   "cell_type": "code",
   "execution_count": 61,
   "id": "1412a9ee-27c9-4f69-82f8-9c5ad55720eb",
   "metadata": {},
   "outputs": [
    {
     "name": "stdout",
     "output_type": "stream",
     "text": [
      "tf.Tensor(\n",
      "[[ 0.5383967   0.24340355 -0.12125989 -0.18904588  0.0520042 ]\n",
      " [ 0.03124919 -0.02850029 -0.02899976 -0.0166321  -0.04715919]\n",
      " [-0.04246698  0.04673192  0.00875651 -0.02347536 -0.01025083]\n",
      " [-0.03688802  0.00720619  0.01484371  0.0077016   0.01156037]\n",
      " [ 0.00705848 -0.0013957   0.01351361 -0.00205282 -0.01013241]], shape=(5, 5), dtype=float32)\n"
     ]
    }
   ],
   "source": [
    "print(tf.divide(random_tensor, prime_tensor))"
   ]
  },
  {
   "cell_type": "markdown",
   "id": "afa459bd-5cfe-4b92-8a4b-5f1e2849dc36",
   "metadata": {},
   "source": [
    "#### 5.) PANGKAT"
   ]
  },
  {
   "cell_type": "code",
   "execution_count": 62,
   "id": "8e47a3ad-2486-44ba-bbed-c7c170392f88",
   "metadata": {},
   "outputs": [
    {
     "name": "stdout",
     "output_type": "stream",
     "text": [
      "tf.Tensor(\n",
      "[[ 1.1594841e+00  3.8935387e-01 -8.1928670e-02 -7.1065149e+00\n",
      "   2.1465565e-03]\n",
      " [ 8.2066908e-06 -4.4675558e-06 -1.2072950e-05 -2.5207283e-10\n",
      "  -8.7692979e+03]\n",
      " [-5.0327441e+03  6.2974790e+08  5.7506609e-19 -1.4978701e+00\n",
      "  -1.2424513e-15]\n",
      " [-2.7011194e+15  1.2159660e-22  2.3399794e-03  5.5967409e-20\n",
      "   8.1347395e-07]\n",
      " [ 9.5166029e-22 -0.0000000e+00  1.3724774e+04 -0.0000000e+00\n",
      "  -1.8662918e-01]], shape=(5, 5), dtype=float32)\n"
     ]
    }
   ],
   "source": [
    "print(tf.pow(random_tensor, prime_tensor))"
   ]
  },
  {
   "cell_type": "markdown",
   "id": "9b3c3563-0520-498e-8e46-892f5dbc5174",
   "metadata": {},
   "source": [
    "#### 6.) LOGARITMA"
   ]
  },
  {
   "cell_type": "code",
   "execution_count": 63,
   "id": "45592145-0cd3-47d9-a701-d35bd5c86fc7",
   "metadata": {},
   "outputs": [
    {
     "name": "stdout",
     "output_type": "stream",
     "text": [
      "tf.Tensor(\n",
      "[[ 0.07398757 -0.31442222         nan         nan -0.5585355 ]\n",
      " [-0.9008124          nan         nan         nan         nan]\n",
      " [        nan  0.54759    -1.0243855          nan         nan]\n",
      " [        nan -0.8552768  -0.09930514 -0.66163456 -0.19749229]\n",
      " [-0.6630662          nan  0.11478261         nan         nan]], shape=(5, 5), dtype=float32)\n"
     ]
    }
   ],
   "source": [
    "print(tf.math.log(random_tensor, prime_tensor))"
   ]
  },
  {
   "cell_type": "raw",
   "id": "a89e59e7-184e-48e3-ba33-34452a8d38c1",
   "metadata": {},
   "source": []
  },
  {
   "cell_type": "markdown",
   "id": "dad0a4ae-a306-4ee5-848a-c1e2eb67c0f2",
   "metadata": {
    "tags": []
   },
   "source": [
    "### NILAI MAX AND MIN DARI RANDOM_TENSOR"
   ]
  },
  {
   "cell_type": "code",
   "execution_count": 12,
   "id": "0306f32d-1699-4c0b-8dd7-43ee05a42dcf",
   "metadata": {},
   "outputs": [
    {
     "data": {
      "text/plain": [
       "array([2, 0, 2, 2, 3], dtype=int64)"
      ]
     },
     "execution_count": 12,
     "metadata": {},
     "output_type": "execute_result"
    }
   ],
   "source": [
    "#Nilai Max Baris random_tensor\n",
    "tf.argmax(random_tensor, axis = 0).numpy()"
   ]
  },
  {
   "cell_type": "code",
   "execution_count": 17,
   "id": "32c1e12b-cd85-43d8-8430-1ff2a7c5780c",
   "metadata": {},
   "outputs": [
    {
     "data": {
      "text/plain": [
       "array([1, 1, 2, 4, 4], dtype=int64)"
      ]
     },
     "execution_count": 17,
     "metadata": {},
     "output_type": "execute_result"
    }
   ],
   "source": [
    "#Nilai Max Kolom random_tensor\n",
    "tf.argmax(random_tensor, axis = 1).numpy()"
   ]
  },
  {
   "cell_type": "code",
   "execution_count": 18,
   "id": "b07fd722-bdb4-4502-9531-217760aded77",
   "metadata": {},
   "outputs": [
    {
     "data": {
      "text/plain": [
       "array([4, 4, 1, 0, 2], dtype=int64)"
      ]
     },
     "execution_count": 18,
     "metadata": {},
     "output_type": "execute_result"
    }
   ],
   "source": [
    "#Nilai Min Baris random_tensor\n",
    "tf.argmin(random_tensor, axis = 0).numpy()"
   ]
  },
  {
   "cell_type": "code",
   "execution_count": 19,
   "id": "9726294f-b07a-4597-bba1-6949a82c442a",
   "metadata": {},
   "outputs": [
    {
     "data": {
      "text/plain": [
       "array([3, 2, 4, 0, 0], dtype=int64)"
      ]
     },
     "execution_count": 19,
     "metadata": {},
     "output_type": "execute_result"
    }
   ],
   "source": [
    "#Nilai Min Kolom random_tensor\n",
    "tf.argmin(random_tensor, axis = 1).numpy()"
   ]
  },
  {
   "cell_type": "raw",
   "id": "50d9faf7-83de-4bc3-ad11-c8c9562dee2d",
   "metadata": {},
   "source": []
  },
  {
   "cell_type": "markdown",
   "id": "ee186728-de8c-4b0b-8066-cd637ee0b1a1",
   "metadata": {},
   "source": [
    "### PENGGABUNGAN (CONCAT) KEDUA VARIABEL"
   ]
  },
  {
   "cell_type": "code",
   "execution_count": 20,
   "id": "d596be69-5f4e-438e-b224-4e255f288b3f",
   "metadata": {},
   "outputs": [
    {
     "data": {
      "text/plain": [
       "array([[-8.1131822e-01,  1.4845988e+00,  6.5329373e-02, -2.4427042e+00,\n",
       "         9.9248402e-02],\n",
       "       [ 5.9122431e-01,  5.9282297e-01, -2.1229296e+00, -7.2289723e-01,\n",
       "        -5.6270380e-02],\n",
       "       [ 6.4354479e-01, -2.6432407e-01,  1.8566332e+00,  5.6784171e-01,\n",
       "        -3.8283589e-01],\n",
       "       [-1.4853433e+00,  1.2617711e+00, -2.5306080e-02, -2.6462969e-01,\n",
       "         1.5328138e+00],\n",
       "       [-1.7429771e+00, -4.3789294e-01, -5.6601000e-01,  3.2066926e-01,\n",
       "         1.1328310e+00],\n",
       "       [ 2.0000000e+00,  3.0000000e+00,  5.0000000e+00,  7.0000000e+00,\n",
       "         1.1000000e+01],\n",
       "       [ 1.3000000e+01,  1.7000000e+01,  1.9000000e+01,  2.3000000e+01,\n",
       "         2.9000000e+01],\n",
       "       [ 3.1000000e+01,  3.7000000e+01,  4.1000000e+01,  4.3000000e+01,\n",
       "         4.7000000e+01],\n",
       "       [ 5.3000000e+01,  5.9000000e+01,  6.1000000e+01,  6.7000000e+01,\n",
       "         7.1000000e+01],\n",
       "       [ 7.3000000e+01,  7.9000000e+01,  8.3000000e+01,  8.9000000e+01,\n",
       "         9.7000000e+01]], dtype=float32)"
      ]
     },
     "execution_count": 20,
     "metadata": {},
     "output_type": "execute_result"
    }
   ],
   "source": [
    "# CONCAT ISI VARIABEL BARIS\n",
    "tf.concat([random_tensor, prime_tensor],axis = 0).numpy()"
   ]
  },
  {
   "cell_type": "code",
   "execution_count": 22,
   "id": "1b504854-1b4a-4f6e-b190-c125aafc8463",
   "metadata": {},
   "outputs": [
    {
     "data": {
      "text/plain": [
       "array([[-8.1131822e-01,  1.4845988e+00,  6.5329373e-02, -2.4427042e+00,\n",
       "         9.9248402e-02,  2.0000000e+00,  3.0000000e+00,  5.0000000e+00,\n",
       "         7.0000000e+00,  1.1000000e+01],\n",
       "       [ 5.9122431e-01,  5.9282297e-01, -2.1229296e+00, -7.2289723e-01,\n",
       "        -5.6270380e-02,  1.3000000e+01,  1.7000000e+01,  1.9000000e+01,\n",
       "         2.3000000e+01,  2.9000000e+01],\n",
       "       [ 6.4354479e-01, -2.6432407e-01,  1.8566332e+00,  5.6784171e-01,\n",
       "        -3.8283589e-01,  3.1000000e+01,  3.7000000e+01,  4.1000000e+01,\n",
       "         4.3000000e+01,  4.7000000e+01],\n",
       "       [-1.4853433e+00,  1.2617711e+00, -2.5306080e-02, -2.6462969e-01,\n",
       "         1.5328138e+00,  5.3000000e+01,  5.9000000e+01,  6.1000000e+01,\n",
       "         6.7000000e+01,  7.1000000e+01],\n",
       "       [-1.7429771e+00, -4.3789294e-01, -5.6601000e-01,  3.2066926e-01,\n",
       "         1.1328310e+00,  7.3000000e+01,  7.9000000e+01,  8.3000000e+01,\n",
       "         8.9000000e+01,  9.7000000e+01]], dtype=float32)"
      ]
     },
     "execution_count": 22,
     "metadata": {},
     "output_type": "execute_result"
    }
   ],
   "source": [
    "# CONCAT ISI VARIABEL KOLOM\n",
    "tf.concat([random_tensor, prime_tensor],axis = 1).numpy()"
   ]
  },
  {
   "cell_type": "code",
   "execution_count": 23,
   "id": "5ebb6546-b9fb-4723-8d66-0d64b6261bdd",
   "metadata": {},
   "outputs": [
    {
     "data": {
      "text/plain": [
       "TensorShape([10, 5])"
      ]
     },
     "execution_count": 23,
     "metadata": {},
     "output_type": "execute_result"
    }
   ],
   "source": [
    "# CONCAT DALAM BENTUK SHAPE BARIS\n",
    "tf.concat([random_tensor, prime_tensor],axis= 0).shape"
   ]
  },
  {
   "cell_type": "code",
   "execution_count": 25,
   "id": "990bc54d-65b4-4626-8a18-aab204733059",
   "metadata": {},
   "outputs": [
    {
     "data": {
      "text/plain": [
       "TensorShape([5, 10])"
      ]
     },
     "execution_count": 25,
     "metadata": {},
     "output_type": "execute_result"
    }
   ],
   "source": [
    "# CONCAT DALAM BENTUK SHAPE KOLOM\n",
    "tf.concat([random_tensor, prime_tensor],axis= 1).shape"
   ]
  },
  {
   "cell_type": "raw",
   "id": "58fdb975-42c2-4ce0-944c-827d475724f0",
   "metadata": {},
   "source": []
  },
  {
   "cell_type": "markdown",
   "id": "3c001ad7-3bc5-4e87-8048-39751e69d8fc",
   "metadata": {},
   "source": [
    "### SORTING DESCENDING KEDUA VARIABLE"
   ]
  },
  {
   "cell_type": "markdown",
   "id": "23acc4d3-860d-4e39-b8b5-231d69b182d4",
   "metadata": {},
   "source": [
    "##### a.) RANDOM_TENSOR"
   ]
  },
  {
   "cell_type": "code",
   "execution_count": 69,
   "id": "62e77ac0-eefb-428b-ae5b-3c3702d2f53e",
   "metadata": {},
   "outputs": [
    {
     "data": {
      "text/plain": [
       "array([[ 1.0767934 ,  0.73021066,  0.5720462 , -0.60629946, -1.3233211 ],\n",
       "       [ 0.4062395 , -0.3825384 , -0.48450497, -0.5509955 , -1.3676164 ],\n",
       "       [ 1.7290809 ,  0.35901704, -0.48178914, -1.0094407 , -1.3164763 ],\n",
       "       [ 0.9054664 ,  0.8207865 ,  0.5160072 ,  0.42516547, -1.955065  ],\n",
       "       [ 1.1216296 ,  0.515269  , -0.11026009, -0.18270119, -0.9828434 ]],\n",
       "      dtype=float32)"
      ]
     },
     "execution_count": 69,
     "metadata": {},
     "output_type": "execute_result"
    }
   ],
   "source": [
    "tf.sort(random_tensor, direction=\"DESCENDING\").numpy()"
   ]
  },
  {
   "cell_type": "code",
   "execution_count": 26,
   "id": "b45392eb-a3ed-4ae6-899c-2b7f5beb989c",
   "metadata": {},
   "outputs": [
    {
     "data": {
      "text/plain": [
       "array([[1, 4, 2, 0, 3],\n",
       "       [1, 0, 4, 3, 2],\n",
       "       [2, 0, 3, 1, 4],\n",
       "       [4, 1, 2, 3, 0],\n",
       "       [4, 3, 1, 2, 0]])"
      ]
     },
     "execution_count": 26,
     "metadata": {},
     "output_type": "execute_result"
    }
   ],
   "source": [
    "tf.argsort(random_tensor, direction=\"DESCENDING\").numpy()"
   ]
  },
  {
   "cell_type": "markdown",
   "id": "b0651253-1ecd-483a-9acb-fc664ef2973f",
   "metadata": {},
   "source": [
    "#### b.) PRIME_TENSOR"
   ]
  },
  {
   "cell_type": "code",
   "execution_count": 70,
   "id": "4f7deef8-fddd-4bf0-a6c9-248bb3b10c5f",
   "metadata": {},
   "outputs": [
    {
     "data": {
      "text/plain": [
       "array([[11.,  7.,  5.,  3.,  2.],\n",
       "       [29., 23., 19., 17., 13.],\n",
       "       [47., 43., 41., 37., 31.],\n",
       "       [71., 67., 61., 59., 53.],\n",
       "       [97., 89., 83., 79., 73.]], dtype=float32)"
      ]
     },
     "execution_count": 70,
     "metadata": {},
     "output_type": "execute_result"
    }
   ],
   "source": [
    "tf.sort(prime_tensor, direction=\"DESCENDING\").numpy()"
   ]
  },
  {
   "cell_type": "code",
   "execution_count": 27,
   "id": "da16ea2c-1370-4f9d-b13a-a6aaa45bedf3",
   "metadata": {},
   "outputs": [
    {
     "data": {
      "text/plain": [
       "array([[4, 3, 2, 1, 0],\n",
       "       [4, 3, 2, 1, 0],\n",
       "       [4, 3, 2, 1, 0],\n",
       "       [4, 3, 2, 1, 0],\n",
       "       [4, 3, 2, 1, 0]])"
      ]
     },
     "execution_count": 27,
     "metadata": {},
     "output_type": "execute_result"
    }
   ],
   "source": [
    "tf.argsort(prime_tensor, direction=\"DESCENDING\").numpy()"
   ]
  },
  {
   "cell_type": "markdown",
   "id": "064c31b5-8abf-4beb-a2a8-872567f2fb19",
   "metadata": {},
   "source": [
    "### SELESAI\n",
    "### TERIMA KASIH"
   ]
  }
 ],
 "metadata": {
  "kernelspec": {
   "display_name": "Python 3 (ipykernel)",
   "language": "python",
   "name": "python3"
  },
  "language_info": {
   "codemirror_mode": {
    "name": "ipython",
    "version": 3
   },
   "file_extension": ".py",
   "mimetype": "text/x-python",
   "name": "python",
   "nbconvert_exporter": "python",
   "pygments_lexer": "ipython3",
   "version": "3.10.7"
  }
 },
 "nbformat": 4,
 "nbformat_minor": 5
}
